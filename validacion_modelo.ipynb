{
  "nbformat": 4,
  "nbformat_minor": 0,
  "metadata": {
    "colab": {
      "provenance": [],
      "authorship_tag": "ABX9TyN89uhjsoSzdOwZBJnpCV7y",
      "include_colab_link": true
    },
    "kernelspec": {
      "name": "ir",
      "display_name": "R"
    },
    "language_info": {
      "name": "R"
    }
  },
  "cells": [
    {
      "cell_type": "markdown",
      "metadata": {
        "id": "view-in-github",
        "colab_type": "text"
      },
      "source": [
        "<a href=\"https://colab.research.google.com/github/lguilleng/google_colab/blob/main/validacion_modelo.ipynb\" target=\"_parent\"><img src=\"https://colab.research.google.com/assets/colab-badge.svg\" alt=\"Open In Colab\"/></a>"
      ]
    },
    {
      "cell_type": "markdown",
      "source": [
        "# **Algo de validación cruzada de un modelo**\n",
        "#Autor: Luis Guillen Grados\n",
        "\n",
        "La validación cruzada o cross validation es una técnica utilizada para evaluar los resultados de un análisis estadístico cuando el conjunto de datos se ha segmentado enuna muestra de entrenamiento y otra de prueba, la validación cruzada comprueba si los resultados del análisis son independientes de la partición.\n",
        "\n",
        "\n",
        "Suponiedo que necesitamos **PREDECIR** el redimiento académico promedio por escuela, en función del tamaño promedio de las aulas, el porcentaje de comidas gratis que se enregan y, el procentaje de profesores con credenciales completas para la enseñanza. El modelo sería:\n",
        "\n",
        "$rendimiento=\\beta _{0}+\\beta _{1}tamano+\\beta _{2}comidas+\\beta _{3}credenciales$\n",
        "\n",
        "## **Validación Simple**\n",
        "![](https://miro.medium.com/v2/resize:fit:640/format:webp/0*GLnW_te0TRnUACR7.png)\n",
        "\n"
      ],
      "metadata": {
        "id": "-UNLpPbtIOPZ"
      }
    },
    {
      "cell_type": "markdown",
      "source": [
        "**Leer de datos y preparar conjunto de entrenamiento y prueba**"
      ],
      "metadata": {
        "id": "Tonn2tNhJppe"
      }
    },
    {
      "cell_type": "code",
      "execution_count": null,
      "metadata": {
        "colab": {
          "base_uri": "https://localhost:8080/"
        },
        "collapsed": true,
        "id": "SxHeWM5pGqPG",
        "outputId": "93557398-f961-40aa-cba0-cb41593985e5"
      },
      "outputs": [
        {
          "output_type": "stream",
          "name": "stderr",
          "text": [
            "Installing package into ‘/usr/local/lib/R/site-library’\n",
            "(as ‘lib’ is unspecified)\n",
            "\n"
          ]
        }
      ],
      "source": [
        "# lectura de datos\n",
        "datos <- read.table(\"/content/data_3.csv\", header=TRUE, sep=\",\", na.strings=\"NA\", dec=\".\", strip.white=TRUE)\n",
        "#datos\n",
        "\n",
        "# dividimos en 2 conjuntos de datos (entrenamiento y prueba)\n",
        "install.packages(\"caTools\")\n",
        "library(caTools)\n",
        "set.seed(1)\n",
        "conjunto <- sample.split(datos$rendimiento,SplitRatio=0.8)\n",
        "entrenamiento <- subset(datos, conjunto==\"TRUE\")\n",
        "prueba <- subset(datos,conjunto==\"FALSE\")\n",
        "#nrow(entrenamiento)\n",
        "#nrow(prueba)\n"
      ]
    },
    {
      "cell_type": "markdown",
      "source": [
        "**Estimación del moldelo con el conjunto total de observaciones**"
      ],
      "metadata": {
        "id": "e-1cgiKG81l5"
      }
    },
    {
      "cell_type": "code",
      "source": [
        "modelo_total <- lm(rendimiento~comidas+tamaño_k3+credenciales, data = datos)\n",
        "summary(modelo_total)"
      ],
      "metadata": {
        "colab": {
          "base_uri": "https://localhost:8080/",
          "height": 399
        },
        "id": "I4737Apn8_pl",
        "outputId": "1f603568-649d-4bc5-b076-6a43dc0aaecc"
      },
      "execution_count": null,
      "outputs": [
        {
          "output_type": "display_data",
          "data": {
            "text/plain": [
              "\n",
              "Call:\n",
              "lm(formula = rendimiento ~ comidas + tamaño_k3 + credenciales, \n",
              "    data = datos)\n",
              "\n",
              "Residuals:\n",
              "     Min       1Q   Median       3Q      Max \n",
              "-170.494  -41.422   -1.817   43.355  168.764 \n",
              "\n",
              "Coefficients:\n",
              "             Estimate Std. Error t value Pr(>|t|)    \n",
              "(Intercept)  771.6581    48.8607  15.793  < 2e-16 ***\n",
              "comidas       -3.6863     0.1118 -32.978  < 2e-16 ***\n",
              "tamaño_k3     -0.7171     2.2388  -0.320    0.749    \n",
              "credenciales   1.3271     0.2389   5.556  5.1e-08 ***\n",
              "---\n",
              "Signif. codes:  0 ‘***’ 0.001 ‘**’ 0.01 ‘*’ 0.05 ‘.’ 0.1 ‘ ’ 1\n",
              "\n",
              "Residual standard error: 59.81 on 394 degrees of freedom\n",
              "  (2 observations deleted due to missingness)\n",
              "Multiple R-squared:  0.8242,\tAdjusted R-squared:  0.8228 \n",
              "F-statistic: 615.5 on 3 and 394 DF,  p-value: < 2.2e-16\n"
            ]
          },
          "metadata": {}
        }
      ]
    },
    {
      "cell_type": "markdown",
      "source": [
        "**Estimar modelo en el conjunto de entrenamiento**"
      ],
      "metadata": {
        "id": "cmDD0UAVKA48"
      }
    },
    {
      "cell_type": "code",
      "source": [
        "# Estimar el modelo en el conjunto de entrenamiento\n",
        "modelo <- lm(rendimiento~comidas+tamaño_k3+credenciales, data = entrenamiento)\n",
        "summary(modelo)"
      ],
      "metadata": {
        "colab": {
          "base_uri": "https://localhost:8080/",
          "height": 399
        },
        "collapsed": true,
        "id": "YNdQzrr_KIW7",
        "outputId": "0e966adc-7290-4f7a-d7ef-520ecaa28e04"
      },
      "execution_count": null,
      "outputs": [
        {
          "output_type": "display_data",
          "data": {
            "text/plain": [
              "\n",
              "Call:\n",
              "lm(formula = rendimiento ~ comidas + tamaño_k3 + credenciales, \n",
              "    data = entrenamiento)\n",
              "\n",
              "Residuals:\n",
              "     Min       1Q   Median       3Q      Max \n",
              "-168.623  -41.441   -2.641   43.816  166.790 \n",
              "\n",
              "Coefficients:\n",
              "             Estimate Std. Error t value Pr(>|t|)    \n",
              "(Intercept)  765.6175    54.5451  14.036   <2e-16 ***\n",
              "comidas       -3.6469     0.1244 -29.307   <2e-16 ***\n",
              "tamaño_k3     -0.6128     2.4867  -0.246    0.806    \n",
              "credenciales   1.3120     0.2629   4.989    1e-06 ***\n",
              "---\n",
              "Signif. codes:  0 ‘***’ 0.001 ‘**’ 0.01 ‘*’ 0.05 ‘.’ 0.1 ‘ ’ 1\n",
              "\n",
              "Residual standard error: 60.11 on 314 degrees of freedom\n",
              "  (2 observations deleted due to missingness)\n",
              "Multiple R-squared:  0.8212,\tAdjusted R-squared:  0.8195 \n",
              "F-statistic: 480.7 on 3 and 314 DF,  p-value: < 2.2e-16\n"
            ]
          },
          "metadata": {}
        }
      ]
    },
    {
      "cell_type": "markdown",
      "source": [
        "**Calcular indicadores en conjunto de entrenamiento y prueba**\n",
        "\n",
        "**- Coeficiente de determinación (R2)**\n",
        "\n",
        "¿Qué tan bien se ajusta el modelo a las observaciones reales que tenemos?\n",
        "\n",
        "$R^{2}=1-\\frac{\\sum_{n=1}^{n}{(y_{i}-\\widehat{y_{i}})^{2}}}{\\sum_{n=1}^{n}{(y_{i}-\\overline{y})^{2}}}$\n",
        "\n",
        "**- Error Absoluto Medio (MAE)**\n",
        "\n",
        "¿Qué tan diferente es el valor predicho y el valor observado?\n",
        "\n",
        "$MAE=\\frac{\\sum_{i=1}^{n}|y_{i}-\\widehat{y_{i}}|}{n}$\n",
        "\n",
        "**- Raíz del Error Cuadrático Medio (RMSE)**\n",
        "\n",
        "¿Qué tan cerca es la línea de ajuste de nuestra regresión a las observaciones?\n",
        "\n",
        "$RMSE=\\sqrt{\\frac{\\sum_{n=1}^{n}{(y_{i}-\\widehat{y_{i}})^{2}}}{n}}$\n",
        "\n"
      ],
      "metadata": {
        "id": "VNwoNU6vKNJN"
      }
    },
    {
      "cell_type": "code",
      "source": [
        "# Calculamos R2, MAE y RMSE en el conjunto total de observaciones\n",
        "p_total <- predict(object = modelo_total, newdata = datos)\n",
        "#p_total\n",
        "e_total <- datos$rendimiento - p_total\n",
        "mae_total <- mean(abs(na.omit(e_total)))\n",
        "rmse_total <- sqrt(mean(na.omit(e_total^2)))\n",
        "r2_total <- 1-rmse_total^2/var(datos$rendimiento)\n",
        "\n",
        "# Calculamos R2, MAE y RMSE en el conjunto de entrenamiento\n",
        "p_entrenamiento <- predict(object = modelo, newdata = entrenamiento)\n",
        "#p_entrenamiento\n",
        "e_entrenamiento <- entrenamiento$rendimiento - p_entrenamiento\n",
        "mae_entrenamiento <- mean(abs(na.omit(e_entrenamiento)))\n",
        "rmse_entrenamiento <- sqrt(mean(na.omit(e_entrenamiento^2)))\n",
        "r2_entrenamiento <- 1-rmse_entrenamiento^2/var(entrenamiento$rendimiento)\n",
        "\n",
        "# Calculamos R2, MAE y RMSE en el conjunto de prueba\n",
        "p_prueba <- predict(object = modelo, newdata = prueba)\n",
        "#p_prueba\n",
        "e_prueba <- prueba$rendimiento - p_prueba\n",
        "mae_prueba <- mean(abs(na.omit(e_prueba)))\n",
        "rmse_prueba <-sqrt(mean(na.omit(e_prueba^2)))\n",
        "r2_prueba <- 1-rmse_prueba^2/var(prueba$rendimiento)\n",
        "\n",
        "data.frame(\n",
        "    Conjunto=c(\"Total\",\"Entrenamiento\",\"Prueba\"), R2=c(r2_total,r2_entrenamiento,r2_prueba),MAE=c(mae_total,mae_entrenamiento,mae_prueba),RMSE=c(rmse_total,rmse_entrenamiento,rmse_prueba)\n",
        ")"
      ],
      "metadata": {
        "colab": {
          "base_uri": "https://localhost:8080/",
          "height": 192
        },
        "id": "jaVynGKuKSfl",
        "outputId": "5f0535a3-3a5d-4346-e369-aba9cae1699b"
      },
      "execution_count": null,
      "outputs": [
        {
          "output_type": "display_data",
          "data": {
            "text/html": [
              "<table class=\"dataframe\">\n",
              "<caption>A data.frame: 3 × 4</caption>\n",
              "<thead>\n",
              "\t<tr><th scope=col>Conjunto</th><th scope=col>R2</th><th scope=col>MAE</th><th scope=col>RMSE</th></tr>\n",
              "\t<tr><th scope=col>&lt;chr&gt;</th><th scope=col>&lt;dbl&gt;</th><th scope=col>&lt;dbl&gt;</th><th scope=col>&lt;dbl&gt;</th></tr>\n",
              "</thead>\n",
              "<tbody>\n",
              "\t<tr><td>Total        </td><td>0.8250137</td><td>47.53620</td><td>59.50468</td></tr>\n",
              "\t<tr><td>Entrenamiento</td><td>0.8222441</td><td>48.09988</td><td>59.72607</td></tr>\n",
              "\t<tr><td>Prueba       </td><td>0.8329377</td><td>45.38931</td><td>59.06605</td></tr>\n",
              "</tbody>\n",
              "</table>\n"
            ],
            "text/markdown": "\nA data.frame: 3 × 4\n\n| Conjunto &lt;chr&gt; | R2 &lt;dbl&gt; | MAE &lt;dbl&gt; | RMSE &lt;dbl&gt; |\n|---|---|---|---|\n| Total         | 0.8250137 | 47.53620 | 59.50468 |\n| Entrenamiento | 0.8222441 | 48.09988 | 59.72607 |\n| Prueba        | 0.8329377 | 45.38931 | 59.06605 |\n\n",
            "text/latex": "A data.frame: 3 × 4\n\\begin{tabular}{llll}\n Conjunto & R2 & MAE & RMSE\\\\\n <chr> & <dbl> & <dbl> & <dbl>\\\\\n\\hline\n\t Total         & 0.8250137 & 47.53620 & 59.50468\\\\\n\t Entrenamiento & 0.8222441 & 48.09988 & 59.72607\\\\\n\t Prueba        & 0.8329377 & 45.38931 & 59.06605\\\\\n\\end{tabular}\n",
            "text/plain": [
              "  Conjunto      R2        MAE      RMSE    \n",
              "1 Total         0.8250137 47.53620 59.50468\n",
              "2 Entrenamiento 0.8222441 48.09988 59.72607\n",
              "3 Prueba        0.8329377 45.38931 59.06605"
            ]
          },
          "metadata": {}
        }
      ]
    },
    {
      "cell_type": "markdown",
      "source": [
        "**Y si eleccionamos otros conjuntos de entrenamiento y prueba ¿como varían, por ejemplo el RMSE?**\n",
        "\n",
        "Replicamos la validación simple 100 veces y observamos le variabilidad del RMSE en los conjuntos de entrenamiento"
      ],
      "metadata": {
        "id": "v3xbpOcKz0h8"
      }
    },
    {
      "cell_type": "code",
      "source": [
        "install.packages(\"ggplot2\")\n",
        "install.packages(\"gridExtra\")\n",
        "library(ggplot2)\n",
        "library(gridExtra)\n",
        "\n",
        "RMSE <- rep(NA,100)\n",
        "set.seed(Sys.time())\n",
        "for (i in 1:100) {\n",
        "  conjunto <- sample.split(datos$rendimiento,SplitRatio=0.8)\n",
        "  entrenamiento <- subset(datos, conjunto==\"TRUE\")\n",
        "  modelo <- lm(rendimiento~comidas+tamaño_k3+credenciales, data = entrenamiento)\n",
        "  p_entrenamiento <- predict(object = modelo, newdata = entrenamiento)\n",
        "  RMSE[i] <- sqrt(mean(na.omit(entrenamiento$rendimiento- p_entrenamiento)^2))\n",
        "}\n",
        "\n",
        "p1 <- ggplot(data = data.frame(RMSE = RMSE), aes(x = 1, y = RMSE)) +\n",
        "      geom_boxplot(outlier.shape = NA) +\n",
        "      geom_jitter(colour = c(\"firebrick3\"), width = 0.1) +\n",
        "      coord_flip() +\n",
        "      labs(title = \"Distribución de la RMSE de validación simple\") +\n",
        "      theme_bw() +\n",
        "      theme(axis.title.x = element_blank(),\n",
        "            axis.text.x = element_blank(),\n",
        "            axis.ticks.x = element_blank())\n",
        "\n",
        "p2 <- ggplot(data = data.frame(RMSE = RMSE), aes(RMSE)) +\n",
        "      geom_histogram(colour = \"firebrick3\") +\n",
        "      theme_bw()\n",
        "\n",
        "grid.arrange(p1, p2, ncol = 1)"
      ],
      "metadata": {
        "colab": {
          "base_uri": "https://localhost:8080/",
          "height": 558
        },
        "id": "5SfykZ6L_Ekk",
        "outputId": "6d321036-ab1a-4ba4-f27b-c11a0cdb6ec0"
      },
      "execution_count": null,
      "outputs": [
        {
          "output_type": "stream",
          "name": "stderr",
          "text": [
            "Installing package into ‘/usr/local/lib/R/site-library’\n",
            "(as ‘lib’ is unspecified)\n",
            "\n",
            "Installing package into ‘/usr/local/lib/R/site-library’\n",
            "(as ‘lib’ is unspecified)\n",
            "\n",
            "\u001b[1m\u001b[22m`stat_bin()` using `bins = 30`. Pick better value with `binwidth`.\n"
          ]
        },
        {
          "output_type": "display_data",
          "data": {
            "text/plain": [
              "plot without title"
            ],
            "image/png": "[encoded data removed]"
          },
          "metadata": {
            "image/png": {
              "width": 420,
              "height": 420
            }
          }
        }
      ]
    },
    {
      "cell_type": "markdown",
      "source": [
        "## **Validación cruzada K Fold**\n",
        "\n",
        "![](https://scikit-learn.org/stable/_images/grid_search_cross_validation.png)\n"
      ],
      "metadata": {
        "id": "z8-MiMZrFyQx"
      }
    },
    {
      "cell_type": "code",
      "source": [
        "install.packages(\"caret\")\n",
        "library(caret)"
      ],
      "metadata": {
        "id": "Ul2kSouHLr5b"
      },
      "execution_count": null,
      "outputs": []
    },
    {
      "cell_type": "code",
      "source": [
        "# Especificamos el método de validación cruzada K-Fold\n",
        "kf <- trainControl(method = \"cv\", number = 5)\n",
        "\n",
        "# Estimamos el modelo de regresión y usamos k-fold CV para evaluar desempeño\n",
        "modelo <- train(rendimiento~comidas+tamaño_k3+credenciales, data = na.omit(datos), method = \"lm\", trControl = kf)\n",
        "\n",
        "# Resumen de la validación por K-Fold\n",
        "print(modelo)"
      ],
      "metadata": {
        "colab": {
          "base_uri": "https://localhost:8080/"
        },
        "id": "yFv7HrH7RSb6",
        "outputId": "f164372f-c767-46bd-a4f7-847c1f19f3da"
      },
      "execution_count": null,
      "outputs": [
        {
          "output_type": "stream",
          "name": "stdout",
          "text": [
            "Linear Regression \n",
            "\n",
            "398 samples\n",
            "  3 predictor\n",
            "\n",
            "No pre-processing\n",
            "Resampling: Cross-Validated (5 fold) \n",
            "Summary of sample sizes: 318, 318, 318, 319, 319 \n",
            "Resampling results:\n",
            "\n",
            "  RMSE    Rsquared   MAE     \n",
            "  60.574  0.8211128  48.38422\n",
            "\n",
            "Tuning parameter 'intercept' was held constant at a value of TRUE\n"
          ]
        }
      ]
    }
  ]
}